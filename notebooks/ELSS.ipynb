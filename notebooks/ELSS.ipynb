{
 "cells": [
  {
   "cell_type": "code",
   "execution_count": 40,
   "metadata": {},
   "outputs": [],
   "source": [
    "import pandas as pd\n",
    "import numpy as np"
   ]
  },
  {
   "cell_type": "code",
   "execution_count": 103,
   "metadata": {},
   "outputs": [],
   "source": [
    "dummy = pd.read_csv('dummy.csv')\n",
    "dummy.drop(['Treynor Ratio'],axis=1,inplace=True)\n",
    "# dummy.head()"
   ]
  },
  {
   "cell_type": "code",
   "execution_count": 104,
   "metadata": {},
   "outputs": [
    {
     "data": {
      "text/html": [
       "<div>\n",
       "<style scoped>\n",
       "    .dataframe tbody tr th:only-of-type {\n",
       "        vertical-align: middle;\n",
       "    }\n",
       "\n",
       "    .dataframe tbody tr th {\n",
       "        vertical-align: top;\n",
       "    }\n",
       "\n",
       "    .dataframe thead th {\n",
       "        text-align: right;\n",
       "    }\n",
       "</style>\n",
       "<table border=\"1\" class=\"dataframe\">\n",
       "  <thead>\n",
       "    <tr style=\"text-align: right;\">\n",
       "      <th></th>\n",
       "      <th>Fund Name</th>\n",
       "      <th>Mean</th>\n",
       "      <th>Sharpe Ratio</th>\n",
       "      <th>R Square</th>\n",
       "      <th>Alpha</th>\n",
       "      <th>Beta</th>\n",
       "      <th>Standard Deviation</th>\n",
       "      <th>Sortino Ratio</th>\n",
       "      <th>Expense Ratio</th>\n",
       "    </tr>\n",
       "  </thead>\n",
       "  <tbody>\n",
       "    <tr>\n",
       "      <th>0</th>\n",
       "      <td>Aditya Birla Sun Life Tax Relief 96</td>\n",
       "      <td>25.38</td>\n",
       "      <td>0.50</td>\n",
       "      <td>0.86</td>\n",
       "      <td>1.41</td>\n",
       "      <td>0.88</td>\n",
       "      <td>13.55</td>\n",
       "      <td>0.67</td>\n",
       "      <td>2.27</td>\n",
       "    </tr>\n",
       "    <tr>\n",
       "      <th>1</th>\n",
       "      <td>Aditya Birla Sun Life Tax Relief 96 - Direct Plan</td>\n",
       "      <td>20.79</td>\n",
       "      <td>0.57</td>\n",
       "      <td>0.87</td>\n",
       "      <td>2.41</td>\n",
       "      <td>0.88</td>\n",
       "      <td>13.58</td>\n",
       "      <td>0.78</td>\n",
       "      <td>1.12</td>\n",
       "    </tr>\n",
       "    <tr>\n",
       "      <th>2</th>\n",
       "      <td>Axis Long Term Equity Fund</td>\n",
       "      <td>19.30</td>\n",
       "      <td>0.51</td>\n",
       "      <td>0.86</td>\n",
       "      <td>1.56</td>\n",
       "      <td>0.83</td>\n",
       "      <td>12.76</td>\n",
       "      <td>0.71</td>\n",
       "      <td>2.26</td>\n",
       "    </tr>\n",
       "    <tr>\n",
       "      <th>3</th>\n",
       "      <td>Axis Long Term Equity Fund - Direct Plan</td>\n",
       "      <td>23.37</td>\n",
       "      <td>0.60</td>\n",
       "      <td>0.86</td>\n",
       "      <td>2.65</td>\n",
       "      <td>0.83</td>\n",
       "      <td>12.77</td>\n",
       "      <td>0.83</td>\n",
       "      <td>1.24</td>\n",
       "    </tr>\n",
       "    <tr>\n",
       "      <th>4</th>\n",
       "      <td>BOI AXA Tax Advantage Fund - Direct Plan</td>\n",
       "      <td>18.60</td>\n",
       "      <td>0.51</td>\n",
       "      <td>0.84</td>\n",
       "      <td>1.97</td>\n",
       "      <td>0.98</td>\n",
       "      <td>15.27</td>\n",
       "      <td>0.79</td>\n",
       "      <td>1.92</td>\n",
       "    </tr>\n",
       "  </tbody>\n",
       "</table>\n",
       "</div>"
      ],
      "text/plain": [
       "                                          Fund Name    Mean  Sharpe Ratio  \\\n",
       "0                Aditya Birla Sun Life Tax Relief 96  25.38          0.50   \n",
       "1  Aditya Birla Sun Life Tax Relief 96 - Direct Plan  20.79          0.57   \n",
       "2                         Axis Long Term Equity Fund  19.30          0.51   \n",
       "3           Axis Long Term Equity Fund - Direct Plan  23.37          0.60   \n",
       "4           BOI AXA Tax Advantage Fund - Direct Plan  18.60          0.51   \n",
       "\n",
       "   R Square  Alpha  Beta  Standard Deviation  Sortino Ratio  Expense Ratio  \n",
       "0      0.86   1.41  0.88               13.55           0.67           2.27  \n",
       "1      0.87   2.41  0.88               13.58           0.78           1.12  \n",
       "2      0.86   1.56  0.83               12.76           0.71           2.26  \n",
       "3      0.86   2.65  0.83               12.77           0.83           1.24  \n",
       "4      0.84   1.97  0.98               15.27           0.79           1.92  "
      ]
     },
     "execution_count": 104,
     "metadata": {},
     "output_type": "execute_result"
    }
   ],
   "source": [
    "dummy.head()"
   ]
  },
  {
   "cell_type": "code",
   "execution_count": 108,
   "metadata": {},
   "outputs": [
    {
     "data": {
      "text/plain": [
       "(16, 9)"
      ]
     },
     "execution_count": 108,
     "metadata": {},
     "output_type": "execute_result"
    }
   ],
   "source": [
    "dummy.shape"
   ]
  },
  {
   "cell_type": "code",
   "execution_count": 111,
   "metadata": {},
   "outputs": [
    {
     "data": {
      "text/plain": [
       "Mean                  1.000000\n",
       "Sharpe Ratio          0.081527\n",
       "Alpha                 0.013069\n",
       "R Square             -0.037899\n",
       "Sortino Ratio        -0.064595\n",
       "Beta                 -0.354605\n",
       "Standard Deviation   -0.402595\n",
       "Expense Ratio        -0.507097\n",
       "Name: Mean, dtype: float64"
      ]
     },
     "execution_count": 111,
     "metadata": {},
     "output_type": "execute_result"
    }
   ],
   "source": [
    "dummy.corr().sort_values(by='Mean',ascending=False).Mean"
   ]
  },
  {
   "cell_type": "code",
   "execution_count": 129,
   "metadata": {},
   "outputs": [
    {
     "data": {
      "text/plain": [
       "count    16.000000\n",
       "mean     18.869375\n",
       "std       3.055532\n",
       "min      13.120000\n",
       "25%      17.457500\n",
       "50%      18.950000\n",
       "75%      20.070000\n",
       "max      25.380000\n",
       "Name: Mean, dtype: float64"
      ]
     },
     "execution_count": 129,
     "metadata": {},
     "output_type": "execute_result"
    }
   ],
   "source": [
    "dummy['Mean'].describe()"
   ]
  },
  {
   "cell_type": "code",
   "execution_count": 106,
   "metadata": {},
   "outputs": [],
   "source": [
    "import seaborn as sns\n",
    "import matplotlib.pyplot as plt"
   ]
  },
  {
   "cell_type": "code",
   "execution_count": 107,
   "metadata": {},
   "outputs": [
    {
     "data": {
      "text/plain": [
       "<matplotlib.axes._subplots.AxesSubplot at 0xda8f0b8>"
      ]
     },
     "execution_count": 107,
     "metadata": {},
     "output_type": "execute_result"
    },
    {
     "data": {
      "image/png": "[encoded data removed]",
      "text/plain": [
       "<Figure size 432x288 with 2 Axes>"
      ]
     },
     "metadata": {},
     "output_type": "display_data"
    }
   ],
   "source": [
    "sns.heatmap(dummy.corr(),annot=True)"
   ]
  },
  {
   "cell_type": "code",
   "execution_count": 116,
   "metadata": {},
   "outputs": [
    {
     "data": {
      "text/plain": [
       "Index(['Fund Name ', 'Mean', 'Sharpe Ratio', 'R Square', 'Alpha', 'Beta',\n",
       "       'Standard Deviation', 'Sortino Ratio', 'Expense Ratio'],\n",
       "      dtype='object')"
      ]
     },
     "execution_count": 116,
     "metadata": {},
     "output_type": "execute_result"
    }
   ],
   "source": [
    "dummy.columns"
   ]
  },
  {
   "cell_type": "code",
   "execution_count": 119,
   "metadata": {},
   "outputs": [
    {
     "data": {
      "image/png": "[encoded data removed]",
      "text/plain": [
       "<Figure size 1440x360 with 1 Axes>"
      ]
     },
     "metadata": {},
     "output_type": "display_data"
    }
   ],
   "source": [
    "plt.figure(figsize=(20,5))\n",
    "sns.pointplot(dummy['Fund Name '].values,dummy['Mean'].values)\n",
    "plt.xticks(rotation=90)\n",
    "plt.show()"
   ]
  },
  {
   "cell_type": "code",
   "execution_count": 120,
   "metadata": {},
   "outputs": [
    {
     "data": {
      "text/plain": [
       "count    16.000000\n",
       "mean     18.869375\n",
       "std       3.055532\n",
       "min      13.120000\n",
       "25%      17.457500\n",
       "50%      18.950000\n",
       "75%      20.070000\n",
       "max      25.380000\n",
       "Name: Mean, dtype: float64"
      ]
     },
     "execution_count": 120,
     "metadata": {},
     "output_type": "execute_result"
    }
   ],
   "source": [
    "dummy['Mean'].describe()"
   ]
  },
  {
   "cell_type": "code",
   "execution_count": 122,
   "metadata": {},
   "outputs": [
    {
     "data": {
      "text/html": [
       "<div>\n",
       "<style scoped>\n",
       "    .dataframe tbody tr th:only-of-type {\n",
       "        vertical-align: middle;\n",
       "    }\n",
       "\n",
       "    .dataframe tbody tr th {\n",
       "        vertical-align: top;\n",
       "    }\n",
       "\n",
       "    .dataframe thead th {\n",
       "        text-align: right;\n",
       "    }\n",
       "</style>\n",
       "<table border=\"1\" class=\"dataframe\">\n",
       "  <thead>\n",
       "    <tr style=\"text-align: right;\">\n",
       "      <th></th>\n",
       "      <th>Fund Name</th>\n",
       "      <th>Mean</th>\n",
       "      <th>Sharpe Ratio</th>\n",
       "      <th>R Square</th>\n",
       "      <th>Alpha</th>\n",
       "      <th>Beta</th>\n",
       "      <th>Standard Deviation</th>\n",
       "      <th>Sortino Ratio</th>\n",
       "      <th>Expense Ratio</th>\n",
       "    </tr>\n",
       "  </thead>\n",
       "  <tbody>\n",
       "    <tr>\n",
       "      <th>0</th>\n",
       "      <td>Aditya Birla Sun Life Tax Relief 96</td>\n",
       "      <td>25.38</td>\n",
       "      <td>0.50</td>\n",
       "      <td>0.86</td>\n",
       "      <td>1.41</td>\n",
       "      <td>0.88</td>\n",
       "      <td>13.55</td>\n",
       "      <td>0.67</td>\n",
       "      <td>2.27</td>\n",
       "    </tr>\n",
       "    <tr>\n",
       "      <th>1</th>\n",
       "      <td>Aditya Birla Sun Life Tax Relief 96 - Direct Plan</td>\n",
       "      <td>20.79</td>\n",
       "      <td>0.57</td>\n",
       "      <td>0.87</td>\n",
       "      <td>2.41</td>\n",
       "      <td>0.88</td>\n",
       "      <td>13.58</td>\n",
       "      <td>0.78</td>\n",
       "      <td>1.12</td>\n",
       "    </tr>\n",
       "    <tr>\n",
       "      <th>2</th>\n",
       "      <td>Axis Long Term Equity Fund</td>\n",
       "      <td>19.30</td>\n",
       "      <td>0.51</td>\n",
       "      <td>0.86</td>\n",
       "      <td>1.56</td>\n",
       "      <td>0.83</td>\n",
       "      <td>12.76</td>\n",
       "      <td>0.71</td>\n",
       "      <td>2.26</td>\n",
       "    </tr>\n",
       "    <tr>\n",
       "      <th>3</th>\n",
       "      <td>Axis Long Term Equity Fund - Direct Plan</td>\n",
       "      <td>23.37</td>\n",
       "      <td>0.60</td>\n",
       "      <td>0.86</td>\n",
       "      <td>2.65</td>\n",
       "      <td>0.83</td>\n",
       "      <td>12.77</td>\n",
       "      <td>0.83</td>\n",
       "      <td>1.24</td>\n",
       "    </tr>\n",
       "    <tr>\n",
       "      <th>6</th>\n",
       "      <td>Invesco India Tax Plan - Direct Plan</td>\n",
       "      <td>21.15</td>\n",
       "      <td>0.54</td>\n",
       "      <td>0.96</td>\n",
       "      <td>1.80</td>\n",
       "      <td>0.97</td>\n",
       "      <td>14.16</td>\n",
       "      <td>0.78</td>\n",
       "      <td>1.00</td>\n",
       "    </tr>\n",
       "    <tr>\n",
       "      <th>9</th>\n",
       "      <td>Motilal Oswal Long Term Equity Fund - Direct Plan</td>\n",
       "      <td>19.83</td>\n",
       "      <td>0.82</td>\n",
       "      <td>0.81</td>\n",
       "      <td>5.84</td>\n",
       "      <td>0.83</td>\n",
       "      <td>13.14</td>\n",
       "      <td>1.10</td>\n",
       "      <td>1.25</td>\n",
       "    </tr>\n",
       "    <tr>\n",
       "      <th>14</th>\n",
       "      <td>Tata India Tax Savings Fund</td>\n",
       "      <td>19.74</td>\n",
       "      <td>0.44</td>\n",
       "      <td>0.90</td>\n",
       "      <td>0.59</td>\n",
       "      <td>1.02</td>\n",
       "      <td>15.46</td>\n",
       "      <td>0.62</td>\n",
       "      <td>1.70</td>\n",
       "    </tr>\n",
       "    <tr>\n",
       "      <th>15</th>\n",
       "      <td>Tata India Tax Savings Fund - Direct Plan</td>\n",
       "      <td>19.58</td>\n",
       "      <td>0.51</td>\n",
       "      <td>0.90</td>\n",
       "      <td>1.76</td>\n",
       "      <td>1.03</td>\n",
       "      <td>15.47</td>\n",
       "      <td>0.72</td>\n",
       "      <td>1.02</td>\n",
       "    </tr>\n",
       "  </tbody>\n",
       "</table>\n",
       "</div>"
      ],
      "text/plain": [
       "                                           Fund Name    Mean  Sharpe Ratio  \\\n",
       "0                 Aditya Birla Sun Life Tax Relief 96  25.38          0.50   \n",
       "1   Aditya Birla Sun Life Tax Relief 96 - Direct Plan  20.79          0.57   \n",
       "2                          Axis Long Term Equity Fund  19.30          0.51   \n",
       "3            Axis Long Term Equity Fund - Direct Plan  23.37          0.60   \n",
       "6                Invesco India Tax Plan - Direct Plan  21.15          0.54   \n",
       "9   Motilal Oswal Long Term Equity Fund - Direct Plan  19.83          0.82   \n",
       "14                        Tata India Tax Savings Fund  19.74          0.44   \n",
       "15          Tata India Tax Savings Fund - Direct Plan  19.58          0.51   \n",
       "\n",
       "    R Square  Alpha  Beta  Standard Deviation  Sortino Ratio  Expense Ratio  \n",
       "0       0.86   1.41  0.88               13.55           0.67           2.27  \n",
       "1       0.87   2.41  0.88               13.58           0.78           1.12  \n",
       "2       0.86   1.56  0.83               12.76           0.71           2.26  \n",
       "3       0.86   2.65  0.83               12.77           0.83           1.24  \n",
       "6       0.96   1.80  0.97               14.16           0.78           1.00  \n",
       "9       0.81   5.84  0.83               13.14           1.10           1.25  \n",
       "14      0.90   0.59  1.02               15.46           0.62           1.70  \n",
       "15      0.90   1.76  1.03               15.47           0.72           1.02  "
      ]
     },
     "execution_count": 122,
     "metadata": {},
     "output_type": "execute_result"
    }
   ],
   "source": [
    "mean_mfs = dummy[(dummy['Mean']>18.86)]\n",
    "mean_mfs"
   ]
  },
  {
   "cell_type": "code",
   "execution_count": 123,
   "metadata": {},
   "outputs": [
    {
     "data": {
      "text/plain": [
       "count    16.000000\n",
       "mean      1.831875\n",
       "std       0.563752\n",
       "min       1.000000\n",
       "25%       1.247500\n",
       "50%       1.910000\n",
       "75%       2.287500\n",
       "max       2.500000\n",
       "Name: Expense Ratio, dtype: float64"
      ]
     },
     "execution_count": 123,
     "metadata": {},
     "output_type": "execute_result"
    }
   ],
   "source": [
    "dummy['Expense Ratio'].describe()"
   ]
  },
  {
   "cell_type": "code",
   "execution_count": 124,
   "metadata": {},
   "outputs": [
    {
     "data": {
      "text/html": [
       "<div>\n",
       "<style scoped>\n",
       "    .dataframe tbody tr th:only-of-type {\n",
       "        vertical-align: middle;\n",
       "    }\n",
       "\n",
       "    .dataframe tbody tr th {\n",
       "        vertical-align: top;\n",
       "    }\n",
       "\n",
       "    .dataframe thead th {\n",
       "        text-align: right;\n",
       "    }\n",
       "</style>\n",
       "<table border=\"1\" class=\"dataframe\">\n",
       "  <thead>\n",
       "    <tr style=\"text-align: right;\">\n",
       "      <th></th>\n",
       "      <th>Fund Name</th>\n",
       "      <th>Mean</th>\n",
       "      <th>Sharpe Ratio</th>\n",
       "      <th>R Square</th>\n",
       "      <th>Alpha</th>\n",
       "      <th>Beta</th>\n",
       "      <th>Standard Deviation</th>\n",
       "      <th>Sortino Ratio</th>\n",
       "      <th>Expense Ratio</th>\n",
       "    </tr>\n",
       "  </thead>\n",
       "  <tbody>\n",
       "    <tr>\n",
       "      <th>1</th>\n",
       "      <td>Aditya Birla Sun Life Tax Relief 96 - Direct Plan</td>\n",
       "      <td>20.79</td>\n",
       "      <td>0.57</td>\n",
       "      <td>0.87</td>\n",
       "      <td>2.41</td>\n",
       "      <td>0.88</td>\n",
       "      <td>13.58</td>\n",
       "      <td>0.78</td>\n",
       "      <td>1.12</td>\n",
       "    </tr>\n",
       "    <tr>\n",
       "      <th>3</th>\n",
       "      <td>Axis Long Term Equity Fund - Direct Plan</td>\n",
       "      <td>23.37</td>\n",
       "      <td>0.60</td>\n",
       "      <td>0.86</td>\n",
       "      <td>2.65</td>\n",
       "      <td>0.83</td>\n",
       "      <td>12.77</td>\n",
       "      <td>0.83</td>\n",
       "      <td>1.24</td>\n",
       "    </tr>\n",
       "    <tr>\n",
       "      <th>9</th>\n",
       "      <td>Motilal Oswal Long Term Equity Fund - Direct Plan</td>\n",
       "      <td>19.83</td>\n",
       "      <td>0.82</td>\n",
       "      <td>0.81</td>\n",
       "      <td>5.84</td>\n",
       "      <td>0.83</td>\n",
       "      <td>13.14</td>\n",
       "      <td>1.10</td>\n",
       "      <td>1.25</td>\n",
       "    </tr>\n",
       "    <tr>\n",
       "      <th>14</th>\n",
       "      <td>Tata India Tax Savings Fund</td>\n",
       "      <td>19.74</td>\n",
       "      <td>0.44</td>\n",
       "      <td>0.90</td>\n",
       "      <td>0.59</td>\n",
       "      <td>1.02</td>\n",
       "      <td>15.46</td>\n",
       "      <td>0.62</td>\n",
       "      <td>1.70</td>\n",
       "    </tr>\n",
       "    <tr>\n",
       "      <th>15</th>\n",
       "      <td>Tata India Tax Savings Fund - Direct Plan</td>\n",
       "      <td>19.58</td>\n",
       "      <td>0.51</td>\n",
       "      <td>0.90</td>\n",
       "      <td>1.76</td>\n",
       "      <td>1.03</td>\n",
       "      <td>15.47</td>\n",
       "      <td>0.72</td>\n",
       "      <td>1.02</td>\n",
       "    </tr>\n",
       "  </tbody>\n",
       "</table>\n",
       "</div>"
      ],
      "text/plain": [
       "                                           Fund Name    Mean  Sharpe Ratio  \\\n",
       "1   Aditya Birla Sun Life Tax Relief 96 - Direct Plan  20.79          0.57   \n",
       "3            Axis Long Term Equity Fund - Direct Plan  23.37          0.60   \n",
       "9   Motilal Oswal Long Term Equity Fund - Direct Plan  19.83          0.82   \n",
       "14                        Tata India Tax Savings Fund  19.74          0.44   \n",
       "15          Tata India Tax Savings Fund - Direct Plan  19.58          0.51   \n",
       "\n",
       "    R Square  Alpha  Beta  Standard Deviation  Sortino Ratio  Expense Ratio  \n",
       "1       0.87   2.41  0.88               13.58           0.78           1.12  \n",
       "3       0.86   2.65  0.83               12.77           0.83           1.24  \n",
       "9       0.81   5.84  0.83               13.14           1.10           1.25  \n",
       "14      0.90   0.59  1.02               15.46           0.62           1.70  \n",
       "15      0.90   1.76  1.03               15.47           0.72           1.02  "
      ]
     },
     "execution_count": 124,
     "metadata": {},
     "output_type": "execute_result"
    }
   ],
   "source": [
    "expr_mfs = mean_mfs[(mean_mfs['Expense Ratio']>1)&(mean_mfs['Expense Ratio']<1.83)]\n",
    "expr_mfs"
   ]
  },
  {
   "cell_type": "code",
   "execution_count": 125,
   "metadata": {},
   "outputs": [
    {
     "data": {
      "text/plain": [
       "count    16.000000\n",
       "mean      0.550000\n",
       "std       0.110875\n",
       "min       0.420000\n",
       "25%       0.487500\n",
       "50%       0.510000\n",
       "75%       0.610000\n",
       "max       0.820000\n",
       "Name: Sharpe Ratio, dtype: float64"
      ]
     },
     "execution_count": 125,
     "metadata": {},
     "output_type": "execute_result"
    }
   ],
   "source": [
    "dummy['Sharpe Ratio'].describe()"
   ]
  },
  {
   "cell_type": "code",
   "execution_count": 126,
   "metadata": {},
   "outputs": [
    {
     "data": {
      "text/html": [
       "<div>\n",
       "<style scoped>\n",
       "    .dataframe tbody tr th:only-of-type {\n",
       "        vertical-align: middle;\n",
       "    }\n",
       "\n",
       "    .dataframe tbody tr th {\n",
       "        vertical-align: top;\n",
       "    }\n",
       "\n",
       "    .dataframe thead th {\n",
       "        text-align: right;\n",
       "    }\n",
       "</style>\n",
       "<table border=\"1\" class=\"dataframe\">\n",
       "  <thead>\n",
       "    <tr style=\"text-align: right;\">\n",
       "      <th></th>\n",
       "      <th>Fund Name</th>\n",
       "      <th>Mean</th>\n",
       "      <th>Sharpe Ratio</th>\n",
       "      <th>R Square</th>\n",
       "      <th>Alpha</th>\n",
       "      <th>Beta</th>\n",
       "      <th>Standard Deviation</th>\n",
       "      <th>Sortino Ratio</th>\n",
       "      <th>Expense Ratio</th>\n",
       "    </tr>\n",
       "  </thead>\n",
       "  <tbody>\n",
       "    <tr>\n",
       "      <th>1</th>\n",
       "      <td>Aditya Birla Sun Life Tax Relief 96 - Direct Plan</td>\n",
       "      <td>20.79</td>\n",
       "      <td>0.57</td>\n",
       "      <td>0.87</td>\n",
       "      <td>2.41</td>\n",
       "      <td>0.88</td>\n",
       "      <td>13.58</td>\n",
       "      <td>0.78</td>\n",
       "      <td>1.12</td>\n",
       "    </tr>\n",
       "    <tr>\n",
       "      <th>3</th>\n",
       "      <td>Axis Long Term Equity Fund - Direct Plan</td>\n",
       "      <td>23.37</td>\n",
       "      <td>0.60</td>\n",
       "      <td>0.86</td>\n",
       "      <td>2.65</td>\n",
       "      <td>0.83</td>\n",
       "      <td>12.77</td>\n",
       "      <td>0.83</td>\n",
       "      <td>1.24</td>\n",
       "    </tr>\n",
       "    <tr>\n",
       "      <th>14</th>\n",
       "      <td>Tata India Tax Savings Fund</td>\n",
       "      <td>19.74</td>\n",
       "      <td>0.44</td>\n",
       "      <td>0.90</td>\n",
       "      <td>0.59</td>\n",
       "      <td>1.02</td>\n",
       "      <td>15.46</td>\n",
       "      <td>0.62</td>\n",
       "      <td>1.70</td>\n",
       "    </tr>\n",
       "    <tr>\n",
       "      <th>15</th>\n",
       "      <td>Tata India Tax Savings Fund - Direct Plan</td>\n",
       "      <td>19.58</td>\n",
       "      <td>0.51</td>\n",
       "      <td>0.90</td>\n",
       "      <td>1.76</td>\n",
       "      <td>1.03</td>\n",
       "      <td>15.47</td>\n",
       "      <td>0.72</td>\n",
       "      <td>1.02</td>\n",
       "    </tr>\n",
       "  </tbody>\n",
       "</table>\n",
       "</div>"
      ],
      "text/plain": [
       "                                           Fund Name    Mean  Sharpe Ratio  \\\n",
       "1   Aditya Birla Sun Life Tax Relief 96 - Direct Plan  20.79          0.57   \n",
       "3            Axis Long Term Equity Fund - Direct Plan  23.37          0.60   \n",
       "14                        Tata India Tax Savings Fund  19.74          0.44   \n",
       "15          Tata India Tax Savings Fund - Direct Plan  19.58          0.51   \n",
       "\n",
       "    R Square  Alpha  Beta  Standard Deviation  Sortino Ratio  Expense Ratio  \n",
       "1       0.87   2.41  0.88               13.58           0.78           1.12  \n",
       "3       0.86   2.65  0.83               12.77           0.83           1.24  \n",
       "14      0.90   0.59  1.02               15.46           0.62           1.70  \n",
       "15      0.90   1.76  1.03               15.47           0.72           1.02  "
      ]
     },
     "execution_count": 126,
     "metadata": {},
     "output_type": "execute_result"
    }
   ],
   "source": [
    "shar_mfs = expr_mfs[(expr_mfs['Sharpe Ratio']>.42)&(expr_mfs['Sharpe Ratio']<.82)]\n",
    "shar_mfs"
   ]
  },
  {
   "cell_type": "code",
   "execution_count": 127,
   "metadata": {},
   "outputs": [
    {
     "data": {
      "text/plain": [
       "count    16.000000\n",
       "mean      2.195625\n",
       "std       1.645414\n",
       "min       0.130000\n",
       "25%       1.227500\n",
       "50%       1.780000\n",
       "75%       2.992500\n",
       "max       5.840000\n",
       "Name: Alpha, dtype: float64"
      ]
     },
     "execution_count": 127,
     "metadata": {},
     "output_type": "execute_result"
    }
   ],
   "source": [
    "dummy['Alpha'].describe()"
   ]
  },
  {
   "cell_type": "code",
   "execution_count": 128,
   "metadata": {},
   "outputs": [
    {
     "data": {
      "text/html": [
       "<div>\n",
       "<style scoped>\n",
       "    .dataframe tbody tr th:only-of-type {\n",
       "        vertical-align: middle;\n",
       "    }\n",
       "\n",
       "    .dataframe tbody tr th {\n",
       "        vertical-align: top;\n",
       "    }\n",
       "\n",
       "    .dataframe thead th {\n",
       "        text-align: right;\n",
       "    }\n",
       "</style>\n",
       "<table border=\"1\" class=\"dataframe\">\n",
       "  <thead>\n",
       "    <tr style=\"text-align: right;\">\n",
       "      <th></th>\n",
       "      <th>Fund Name</th>\n",
       "      <th>Mean</th>\n",
       "      <th>Sharpe Ratio</th>\n",
       "      <th>R Square</th>\n",
       "      <th>Alpha</th>\n",
       "      <th>Beta</th>\n",
       "      <th>Standard Deviation</th>\n",
       "      <th>Sortino Ratio</th>\n",
       "      <th>Expense Ratio</th>\n",
       "    </tr>\n",
       "  </thead>\n",
       "  <tbody>\n",
       "    <tr>\n",
       "      <th>1</th>\n",
       "      <td>Aditya Birla Sun Life Tax Relief 96 - Direct Plan</td>\n",
       "      <td>20.79</td>\n",
       "      <td>0.57</td>\n",
       "      <td>0.87</td>\n",
       "      <td>2.41</td>\n",
       "      <td>0.88</td>\n",
       "      <td>13.58</td>\n",
       "      <td>0.78</td>\n",
       "      <td>1.12</td>\n",
       "    </tr>\n",
       "    <tr>\n",
       "      <th>3</th>\n",
       "      <td>Axis Long Term Equity Fund - Direct Plan</td>\n",
       "      <td>23.37</td>\n",
       "      <td>0.60</td>\n",
       "      <td>0.86</td>\n",
       "      <td>2.65</td>\n",
       "      <td>0.83</td>\n",
       "      <td>12.77</td>\n",
       "      <td>0.83</td>\n",
       "      <td>1.24</td>\n",
       "    </tr>\n",
       "  </tbody>\n",
       "</table>\n",
       "</div>"
      ],
      "text/plain": [
       "                                          Fund Name    Mean  Sharpe Ratio  \\\n",
       "1  Aditya Birla Sun Life Tax Relief 96 - Direct Plan  20.79          0.57   \n",
       "3           Axis Long Term Equity Fund - Direct Plan  23.37          0.60   \n",
       "\n",
       "   R Square  Alpha  Beta  Standard Deviation  Sortino Ratio  Expense Ratio  \n",
       "1      0.87   2.41  0.88               13.58           0.78           1.12  \n",
       "3      0.86   2.65  0.83               12.77           0.83           1.24  "
      ]
     },
     "execution_count": 128,
     "metadata": {},
     "output_type": "execute_result"
    }
   ],
   "source": [
    "aplha_mfs = shar_mfs[(shar_mfs['Alpha']>2.19)&(shar_mfs['Alpha']<5.84)]\n",
    "aplha_mfs"
   ]
  },
  {
   "cell_type": "code",
   "execution_count": null,
   "metadata": {},
   "outputs": [],
   "source": []
  }
 ],
 "metadata": {
  "kernelspec": {
   "display_name": "Python 3",
   "language": "python",
   "name": "python3"
  },
  "language_info": {
   "codemirror_mode": {
    "name": "ipython",
    "version": 3
   },
   "file_extension": ".py",
   "mimetype": "text/x-python",
   "name": "python",
   "nbconvert_exporter": "python",
   "pygments_lexer": "ipython3",
   "version": "3.6.4"
  }
 },
 "nbformat": 4,
 "nbformat_minor": 2
}
