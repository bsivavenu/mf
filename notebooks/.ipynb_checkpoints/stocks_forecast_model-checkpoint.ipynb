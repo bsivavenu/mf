{
 "cells": [
  {
   "cell_type": "code",
   "execution_count": 1,
   "metadata": {},
   "outputs": [],
   "source": [
    "import pandas as pd\n",
    "import numpy as np\n",
    "import matplotlib.pyplot as plt\n",
    "import math"
   ]
  },
  {
   "cell_type": "code",
   "execution_count": 42,
   "metadata": {},
   "outputs": [],
   "source": [
    "import pandas as pd\n",
    "from sklearn import preprocessing, cross_validation, svm\n",
    "from sklearn.linear_model import LinearRegression\n",
    "from sklearn.ensemble import RandomForestRegressor\n",
    "import matplotlib.pyplot as plt\n",
    "from matplotlib import style\n",
    "import datetime\n",
    "from sklearn.preprocessing import scale\n",
    "style.use('fivethirtyeight')"
   ]
  },
  {
   "cell_type": "code",
   "execution_count": 3,
   "metadata": {
    "scrolled": true
   },
   "outputs": [
    {
     "data": {
      "text/html": [
       "<div>\n",
       "<style scoped>\n",
       "    .dataframe tbody tr th:only-of-type {\n",
       "        vertical-align: middle;\n",
       "    }\n",
       "\n",
       "    .dataframe tbody tr th {\n",
       "        vertical-align: top;\n",
       "    }\n",
       "\n",
       "    .dataframe thead th {\n",
       "        text-align: right;\n",
       "    }\n",
       "</style>\n",
       "<table border=\"1\" class=\"dataframe\">\n",
       "  <thead>\n",
       "    <tr style=\"text-align: right;\">\n",
       "      <th></th>\n",
       "      <th>Open</th>\n",
       "      <th>High</th>\n",
       "      <th>Low</th>\n",
       "      <th>Close</th>\n",
       "      <th>Adj Close</th>\n",
       "      <th>Volume</th>\n",
       "    </tr>\n",
       "    <tr>\n",
       "      <th>Date</th>\n",
       "      <th></th>\n",
       "      <th></th>\n",
       "      <th></th>\n",
       "      <th></th>\n",
       "      <th></th>\n",
       "      <th></th>\n",
       "    </tr>\n",
       "  </thead>\n",
       "  <tbody>\n",
       "    <tr>\n",
       "      <th>2018-02-20</th>\n",
       "      <td>NaN</td>\n",
       "      <td>NaN</td>\n",
       "      <td>NaN</td>\n",
       "      <td>NaN</td>\n",
       "      <td>NaN</td>\n",
       "      <td>NaN</td>\n",
       "    </tr>\n",
       "    <tr>\n",
       "      <th>2018-02-21</th>\n",
       "      <td>655.000000</td>\n",
       "      <td>655.0</td>\n",
       "      <td>628.049988</td>\n",
       "      <td>637.250000</td>\n",
       "      <td>636.005615</td>\n",
       "      <td>1024992.0</td>\n",
       "    </tr>\n",
       "    <tr>\n",
       "      <th>2018-02-22</th>\n",
       "      <td>637.099976</td>\n",
       "      <td>642.5</td>\n",
       "      <td>625.150024</td>\n",
       "      <td>631.400024</td>\n",
       "      <td>630.167114</td>\n",
       "      <td>1832814.0</td>\n",
       "    </tr>\n",
       "    <tr>\n",
       "      <th>2018-02-23</th>\n",
       "      <td>634.900024</td>\n",
       "      <td>670.0</td>\n",
       "      <td>634.799988</td>\n",
       "      <td>667.849976</td>\n",
       "      <td>666.545837</td>\n",
       "      <td>1229159.0</td>\n",
       "    </tr>\n",
       "    <tr>\n",
       "      <th>2018-02-26</th>\n",
       "      <td>668.500000</td>\n",
       "      <td>686.0</td>\n",
       "      <td>667.000000</td>\n",
       "      <td>680.849976</td>\n",
       "      <td>679.520447</td>\n",
       "      <td>898086.0</td>\n",
       "    </tr>\n",
       "  </tbody>\n",
       "</table>\n",
       "</div>"
      ],
      "text/plain": [
       "                  Open   High         Low       Close   Adj Close     Volume\n",
       "Date                                                                        \n",
       "2018-02-20         NaN    NaN         NaN         NaN         NaN        NaN\n",
       "2018-02-21  655.000000  655.0  628.049988  637.250000  636.005615  1024992.0\n",
       "2018-02-22  637.099976  642.5  625.150024  631.400024  630.167114  1832814.0\n",
       "2018-02-23  634.900024  670.0  634.799988  667.849976  666.545837  1229159.0\n",
       "2018-02-26  668.500000  686.0  667.000000  680.849976  679.520447   898086.0"
      ]
     },
     "execution_count": 3,
     "metadata": {},
     "output_type": "execute_result"
    }
   ],
   "source": [
    "df = pd.read_csv('TVSMOTOR.NS.csv',parse_dates=True,index_col='Date')\n",
    "df.head()"
   ]
  },
  {
   "cell_type": "code",
   "execution_count": 4,
   "metadata": {},
   "outputs": [
    {
     "data": {
      "text/html": [
       "<div>\n",
       "<style scoped>\n",
       "    .dataframe tbody tr th:only-of-type {\n",
       "        vertical-align: middle;\n",
       "    }\n",
       "\n",
       "    .dataframe tbody tr th {\n",
       "        vertical-align: top;\n",
       "    }\n",
       "\n",
       "    .dataframe thead th {\n",
       "        text-align: right;\n",
       "    }\n",
       "</style>\n",
       "<table border=\"1\" class=\"dataframe\">\n",
       "  <thead>\n",
       "    <tr style=\"text-align: right;\">\n",
       "      <th></th>\n",
       "      <th>Open</th>\n",
       "      <th>High</th>\n",
       "      <th>Low</th>\n",
       "      <th>Close</th>\n",
       "      <th>Adj Close</th>\n",
       "      <th>Volume</th>\n",
       "    </tr>\n",
       "    <tr>\n",
       "      <th>Date</th>\n",
       "      <th></th>\n",
       "      <th></th>\n",
       "      <th></th>\n",
       "      <th></th>\n",
       "      <th></th>\n",
       "      <th></th>\n",
       "    </tr>\n",
       "  </thead>\n",
       "  <tbody>\n",
       "    <tr>\n",
       "      <th>2018-07-30</th>\n",
       "      <td>529.299988</td>\n",
       "      <td>529.299988</td>\n",
       "      <td>511.149994</td>\n",
       "      <td>513.500000</td>\n",
       "      <td>513.500000</td>\n",
       "      <td>2219226.0</td>\n",
       "    </tr>\n",
       "    <tr>\n",
       "      <th>2018-07-31</th>\n",
       "      <td>514.000000</td>\n",
       "      <td>518.950012</td>\n",
       "      <td>507.000000</td>\n",
       "      <td>516.599976</td>\n",
       "      <td>516.599976</td>\n",
       "      <td>1458118.0</td>\n",
       "    </tr>\n",
       "    <tr>\n",
       "      <th>2018-08-01</th>\n",
       "      <td>518.000000</td>\n",
       "      <td>523.000000</td>\n",
       "      <td>508.600006</td>\n",
       "      <td>512.450012</td>\n",
       "      <td>512.450012</td>\n",
       "      <td>3754297.0</td>\n",
       "    </tr>\n",
       "    <tr>\n",
       "      <th>2018-08-02</th>\n",
       "      <td>516.000000</td>\n",
       "      <td>518.400024</td>\n",
       "      <td>508.000000</td>\n",
       "      <td>512.349976</td>\n",
       "      <td>512.349976</td>\n",
       "      <td>874705.0</td>\n",
       "    </tr>\n",
       "    <tr>\n",
       "      <th>2018-08-03</th>\n",
       "      <td>516.900024</td>\n",
       "      <td>521.000000</td>\n",
       "      <td>514.849976</td>\n",
       "      <td>520.349976</td>\n",
       "      <td>520.349976</td>\n",
       "      <td>1108636.0</td>\n",
       "    </tr>\n",
       "    <tr>\n",
       "      <th>2018-08-06</th>\n",
       "      <td>524.000000</td>\n",
       "      <td>532.700012</td>\n",
       "      <td>514.299988</td>\n",
       "      <td>527.799988</td>\n",
       "      <td>527.799988</td>\n",
       "      <td>5350621.0</td>\n",
       "    </tr>\n",
       "    <tr>\n",
       "      <th>2018-08-07</th>\n",
       "      <td>534.900024</td>\n",
       "      <td>561.250000</td>\n",
       "      <td>518.000000</td>\n",
       "      <td>549.000000</td>\n",
       "      <td>549.000000</td>\n",
       "      <td>11653003.0</td>\n",
       "    </tr>\n",
       "    <tr>\n",
       "      <th>2018-08-08</th>\n",
       "      <td>543.000000</td>\n",
       "      <td>543.000000</td>\n",
       "      <td>528.549988</td>\n",
       "      <td>532.799988</td>\n",
       "      <td>532.799988</td>\n",
       "      <td>2573080.0</td>\n",
       "    </tr>\n",
       "    <tr>\n",
       "      <th>2018-08-09</th>\n",
       "      <td>534.000000</td>\n",
       "      <td>542.000000</td>\n",
       "      <td>528.799988</td>\n",
       "      <td>538.450012</td>\n",
       "      <td>538.450012</td>\n",
       "      <td>1089845.0</td>\n",
       "    </tr>\n",
       "    <tr>\n",
       "      <th>2018-08-10</th>\n",
       "      <td>536.000000</td>\n",
       "      <td>538.000000</td>\n",
       "      <td>530.049988</td>\n",
       "      <td>534.099976</td>\n",
       "      <td>534.099976</td>\n",
       "      <td>717256.0</td>\n",
       "    </tr>\n",
       "    <tr>\n",
       "      <th>2018-08-13</th>\n",
       "      <td>529.000000</td>\n",
       "      <td>529.049988</td>\n",
       "      <td>518.000000</td>\n",
       "      <td>519.599976</td>\n",
       "      <td>519.599976</td>\n",
       "      <td>848721.0</td>\n",
       "    </tr>\n",
       "    <tr>\n",
       "      <th>2018-08-14</th>\n",
       "      <td>517.099976</td>\n",
       "      <td>524.150024</td>\n",
       "      <td>514.099976</td>\n",
       "      <td>519.400024</td>\n",
       "      <td>519.400024</td>\n",
       "      <td>1083003.0</td>\n",
       "    </tr>\n",
       "    <tr>\n",
       "      <th>2018-08-16</th>\n",
       "      <td>518.200012</td>\n",
       "      <td>522.950012</td>\n",
       "      <td>514.500000</td>\n",
       "      <td>519.299988</td>\n",
       "      <td>519.299988</td>\n",
       "      <td>990486.0</td>\n",
       "    </tr>\n",
       "    <tr>\n",
       "      <th>2018-08-17</th>\n",
       "      <td>520.000000</td>\n",
       "      <td>522.000000</td>\n",
       "      <td>514.400024</td>\n",
       "      <td>515.900024</td>\n",
       "      <td>515.900024</td>\n",
       "      <td>654154.0</td>\n",
       "    </tr>\n",
       "    <tr>\n",
       "      <th>2018-08-20</th>\n",
       "      <td>518.000000</td>\n",
       "      <td>541.200012</td>\n",
       "      <td>516.200012</td>\n",
       "      <td>536.950012</td>\n",
       "      <td>536.950012</td>\n",
       "      <td>9542477.0</td>\n",
       "    </tr>\n",
       "  </tbody>\n",
       "</table>\n",
       "</div>"
      ],
      "text/plain": [
       "                  Open        High         Low       Close   Adj Close  \\\n",
       "Date                                                                     \n",
       "2018-07-30  529.299988  529.299988  511.149994  513.500000  513.500000   \n",
       "2018-07-31  514.000000  518.950012  507.000000  516.599976  516.599976   \n",
       "2018-08-01  518.000000  523.000000  508.600006  512.450012  512.450012   \n",
       "2018-08-02  516.000000  518.400024  508.000000  512.349976  512.349976   \n",
       "2018-08-03  516.900024  521.000000  514.849976  520.349976  520.349976   \n",
       "2018-08-06  524.000000  532.700012  514.299988  527.799988  527.799988   \n",
       "2018-08-07  534.900024  561.250000  518.000000  549.000000  549.000000   \n",
       "2018-08-08  543.000000  543.000000  528.549988  532.799988  532.799988   \n",
       "2018-08-09  534.000000  542.000000  528.799988  538.450012  538.450012   \n",
       "2018-08-10  536.000000  538.000000  530.049988  534.099976  534.099976   \n",
       "2018-08-13  529.000000  529.049988  518.000000  519.599976  519.599976   \n",
       "2018-08-14  517.099976  524.150024  514.099976  519.400024  519.400024   \n",
       "2018-08-16  518.200012  522.950012  514.500000  519.299988  519.299988   \n",
       "2018-08-17  520.000000  522.000000  514.400024  515.900024  515.900024   \n",
       "2018-08-20  518.000000  541.200012  516.200012  536.950012  536.950012   \n",
       "\n",
       "                Volume  \n",
       "Date                    \n",
       "2018-07-30   2219226.0  \n",
       "2018-07-31   1458118.0  \n",
       "2018-08-01   3754297.0  \n",
       "2018-08-02    874705.0  \n",
       "2018-08-03   1108636.0  \n",
       "2018-08-06   5350621.0  \n",
       "2018-08-07  11653003.0  \n",
       "2018-08-08   2573080.0  \n",
       "2018-08-09   1089845.0  \n",
       "2018-08-10    717256.0  \n",
       "2018-08-13    848721.0  \n",
       "2018-08-14   1083003.0  \n",
       "2018-08-16    990486.0  \n",
       "2018-08-17    654154.0  \n",
       "2018-08-20   9542477.0  "
      ]
     },
     "execution_count": 4,
     "metadata": {},
     "output_type": "execute_result"
    }
   ],
   "source": [
    "df.tail(15)"
   ]
  },
  {
   "cell_type": "code",
   "execution_count": 5,
   "metadata": {},
   "outputs": [
    {
     "data": {
      "text/html": [
       "<div>\n",
       "<style scoped>\n",
       "    .dataframe tbody tr th:only-of-type {\n",
       "        vertical-align: middle;\n",
       "    }\n",
       "\n",
       "    .dataframe tbody tr th {\n",
       "        vertical-align: top;\n",
       "    }\n",
       "\n",
       "    .dataframe thead th {\n",
       "        text-align: right;\n",
       "    }\n",
       "</style>\n",
       "<table border=\"1\" class=\"dataframe\">\n",
       "  <thead>\n",
       "    <tr style=\"text-align: right;\">\n",
       "      <th></th>\n",
       "      <th>Open</th>\n",
       "      <th>High</th>\n",
       "      <th>Low</th>\n",
       "      <th>Close</th>\n",
       "    </tr>\n",
       "    <tr>\n",
       "      <th>Date</th>\n",
       "      <th></th>\n",
       "      <th></th>\n",
       "      <th></th>\n",
       "      <th></th>\n",
       "    </tr>\n",
       "  </thead>\n",
       "  <tbody>\n",
       "    <tr>\n",
       "      <th>2018-02-20</th>\n",
       "      <td>NaN</td>\n",
       "      <td>NaN</td>\n",
       "      <td>NaN</td>\n",
       "      <td>NaN</td>\n",
       "    </tr>\n",
       "    <tr>\n",
       "      <th>2018-02-21</th>\n",
       "      <td>655.000000</td>\n",
       "      <td>655.0</td>\n",
       "      <td>628.049988</td>\n",
       "      <td>637.250000</td>\n",
       "    </tr>\n",
       "    <tr>\n",
       "      <th>2018-02-22</th>\n",
       "      <td>637.099976</td>\n",
       "      <td>642.5</td>\n",
       "      <td>625.150024</td>\n",
       "      <td>631.400024</td>\n",
       "    </tr>\n",
       "    <tr>\n",
       "      <th>2018-02-23</th>\n",
       "      <td>634.900024</td>\n",
       "      <td>670.0</td>\n",
       "      <td>634.799988</td>\n",
       "      <td>667.849976</td>\n",
       "    </tr>\n",
       "    <tr>\n",
       "      <th>2018-02-26</th>\n",
       "      <td>668.500000</td>\n",
       "      <td>686.0</td>\n",
       "      <td>667.000000</td>\n",
       "      <td>680.849976</td>\n",
       "    </tr>\n",
       "  </tbody>\n",
       "</table>\n",
       "</div>"
      ],
      "text/plain": [
       "                  Open   High         Low       Close\n",
       "Date                                                 \n",
       "2018-02-20         NaN    NaN         NaN         NaN\n",
       "2018-02-21  655.000000  655.0  628.049988  637.250000\n",
       "2018-02-22  637.099976  642.5  625.150024  631.400024\n",
       "2018-02-23  634.900024  670.0  634.799988  667.849976\n",
       "2018-02-26  668.500000  686.0  667.000000  680.849976"
      ]
     },
     "execution_count": 5,
     "metadata": {},
     "output_type": "execute_result"
    }
   ],
   "source": [
    "df = df[['Open','High','Low','Close']]\n",
    "df.head()"
   ]
  },
  {
   "cell_type": "code",
   "execution_count": 6,
   "metadata": {},
   "outputs": [],
   "source": [
    "df.dropna(inplace=True)"
   ]
  },
  {
   "cell_type": "code",
   "execution_count": 7,
   "metadata": {},
   "outputs": [],
   "source": [
    "forecast_col = 'Close'"
   ]
  },
  {
   "cell_type": "code",
   "execution_count": 8,
   "metadata": {},
   "outputs": [],
   "source": [
    "df.fillna(value=-99999, inplace=True)"
   ]
  },
  {
   "cell_type": "code",
   "execution_count": 9,
   "metadata": {},
   "outputs": [
    {
     "data": {
      "text/plain": [
       "13"
      ]
     },
     "execution_count": 9,
     "metadata": {},
     "output_type": "execute_result"
    }
   ],
   "source": [
    "forecast_out = int(math.ceil(0.1 * len(df)))\n",
    "forecast_out"
   ]
  },
  {
   "cell_type": "code",
   "execution_count": 10,
   "metadata": {},
   "outputs": [],
   "source": [
    "df['label'] = df[forecast_col].shift(forecast_out)"
   ]
  },
  {
   "cell_type": "code",
   "execution_count": 11,
   "metadata": {},
   "outputs": [],
   "source": [
    "X = np.array(df.drop(['label'], 1))\n",
    "# X = scale(X)\n",
    "from sklearn.preprocessing import StandardScaler\n",
    "scaler = StandardScaler()\n",
    "scaler.fit(X)  # Don't cheat - fit only on training data\n",
    "X = scaler.transform(X)\n",
    "\n",
    "X_lately = X[-forecast_out:]\n",
    "X = X[:-forecast_out]\n"
   ]
  },
  {
   "cell_type": "code",
   "execution_count": 12,
   "metadata": {},
   "outputs": [],
   "source": [
    "# from sklearn.preprocessing import StandardScaler\n",
    "# scaler = StandardScaler()\n",
    "# scaler.fit(X_train)  # Don't cheat - fit only on training data\n",
    "# X_train = scaler.transform(X_train)\n",
    "# X_test = scaler.transform(X_test) "
   ]
  },
  {
   "cell_type": "code",
   "execution_count": 13,
   "metadata": {},
   "outputs": [],
   "source": [
    "df.dropna(inplace=True)\n",
    "\n",
    "y = np.array(df['label'])\n"
   ]
  },
  {
   "cell_type": "code",
   "execution_count": 14,
   "metadata": {},
   "outputs": [],
   "source": [
    "X_train, X_test, y_train, y_test = cross_validation.train_test_split(X, y, test_size=0.2)\n"
   ]
  },
  {
   "cell_type": "code",
   "execution_count": 15,
   "metadata": {},
   "outputs": [],
   "source": [
    "clf = RandomForestRegressor()\n",
    "clf.fit(X_train, y_train)\n",
    "confidence = clf.score(X_test, y_test)\n",
    "print(confidence)"
   ]
  },
  {
   "cell_type": "code",
   "execution_count": 16,
   "metadata": {},
   "outputs": [
    {
     "name": "stdout",
     "output_type": "stream",
     "text": [
      "1.0\n"
     ]
    }
   ],
   "source": [
    "# clf = LinearRegression(n_jobs=-1)\n",
    "# clf.fit(X_train, y_train)\n",
    "# confidence = clf.score(X_test, y_test)\n",
    "# print(confidence)"
   ]
  },
  {
   "cell_type": "code",
   "execution_count": 17,
   "metadata": {},
   "outputs": [],
   "source": [
    "# clf = svm.SVR(kernel='linear')\n",
    "# clf.fit(X_train, y_train)\n",
    "# confidence = clf.score(X_test, y_test)\n",
    "# print(confidence)"
   ]
  },
  {
   "cell_type": "code",
   "execution_count": 18,
   "metadata": {},
   "outputs": [],
   "source": [
    "from sklearn.model_selection import cross_val_score"
   ]
  },
  {
   "cell_type": "code",
   "execution_count": 19,
   "metadata": {},
   "outputs": [
    {
     "name": "stderr",
     "output_type": "stream",
     "text": [
      "C:\\Users\\HP\\Anaconda3\\lib\\site-packages\\sklearn\\metrics\\scorer.py:100: DeprecationWarning: Scoring method mean_squared_error was renamed to neg_mean_squared_error in version 0.18 and will be removed in 0.20.\n",
      "  sample_weight=sample_weight)\n",
      "C:\\Users\\HP\\Anaconda3\\lib\\site-packages\\sklearn\\metrics\\scorer.py:100: DeprecationWarning: Scoring method mean_squared_error was renamed to neg_mean_squared_error in version 0.18 and will be removed in 0.20.\n",
      "  sample_weight=sample_weight)\n",
      "C:\\Users\\HP\\Anaconda3\\lib\\site-packages\\sklearn\\metrics\\scorer.py:100: DeprecationWarning: Scoring method mean_squared_error was renamed to neg_mean_squared_error in version 0.18 and will be removed in 0.20.\n",
      "  sample_weight=sample_weight)\n",
      "C:\\Users\\HP\\Anaconda3\\lib\\site-packages\\sklearn\\metrics\\scorer.py:100: DeprecationWarning: Scoring method mean_squared_error was renamed to neg_mean_squared_error in version 0.18 and will be removed in 0.20.\n",
      "  sample_weight=sample_weight)\n",
      "C:\\Users\\HP\\Anaconda3\\lib\\site-packages\\sklearn\\metrics\\scorer.py:100: DeprecationWarning: Scoring method mean_squared_error was renamed to neg_mean_squared_error in version 0.18 and will be removed in 0.20.\n",
      "  sample_weight=sample_weight)\n",
      "C:\\Users\\HP\\Anaconda3\\lib\\site-packages\\sklearn\\metrics\\scorer.py:100: DeprecationWarning: Scoring method mean_squared_error was renamed to neg_mean_squared_error in version 0.18 and will be removed in 0.20.\n",
      "  sample_weight=sample_weight)\n",
      "C:\\Users\\HP\\Anaconda3\\lib\\site-packages\\sklearn\\metrics\\scorer.py:100: DeprecationWarning: Scoring method mean_squared_error was renamed to neg_mean_squared_error in version 0.18 and will be removed in 0.20.\n",
      "  sample_weight=sample_weight)\n",
      "C:\\Users\\HP\\Anaconda3\\lib\\site-packages\\sklearn\\metrics\\scorer.py:100: DeprecationWarning: Scoring method mean_squared_error was renamed to neg_mean_squared_error in version 0.18 and will be removed in 0.20.\n",
      "  sample_weight=sample_weight)\n",
      "C:\\Users\\HP\\Anaconda3\\lib\\site-packages\\sklearn\\metrics\\scorer.py:100: DeprecationWarning: Scoring method mean_squared_error was renamed to neg_mean_squared_error in version 0.18 and will be removed in 0.20.\n",
      "  sample_weight=sample_weight)\n",
      "C:\\Users\\HP\\Anaconda3\\lib\\site-packages\\sklearn\\metrics\\scorer.py:100: DeprecationWarning: Scoring method mean_squared_error was renamed to neg_mean_squared_error in version 0.18 and will be removed in 0.20.\n",
      "  sample_weight=sample_weight)\n"
     ]
    },
    {
     "data": {
      "text/plain": [
       "array([-0.00000000e+00, -0.00000000e+00, -1.72329294e-26, -0.00000000e+00,\n",
       "       -0.00000000e+00, -1.29246971e-26, -1.29246971e-26, -0.00000000e+00,\n",
       "       -0.00000000e+00, -1.29246971e-26])"
      ]
     },
     "execution_count": 19,
     "metadata": {},
     "output_type": "execute_result"
    }
   ],
   "source": [
    "scores = cross_val_score(clf,X_train, y_train,cv=10,scoring='mean_squared_error')\n",
    "scores"
   ]
  },
  {
   "cell_type": "code",
   "execution_count": 20,
   "metadata": {},
   "outputs": [
    {
     "data": {
      "text/plain": [
       "array([0.00000000e+00, 0.00000000e+00, 1.72329294e-26, 0.00000000e+00,\n",
       "       0.00000000e+00, 1.29246971e-26, 1.29246971e-26, 0.00000000e+00,\n",
       "       0.00000000e+00, 1.29246971e-26])"
      ]
     },
     "execution_count": 20,
     "metadata": {},
     "output_type": "execute_result"
    }
   ],
   "source": [
    "mse_scores = - scores\n",
    "mse_scores"
   ]
  },
  {
   "cell_type": "code",
   "execution_count": 21,
   "metadata": {},
   "outputs": [
    {
     "data": {
      "text/plain": [
       "5.600702064161124e-27"
      ]
     },
     "execution_count": 21,
     "metadata": {},
     "output_type": "execute_result"
    }
   ],
   "source": [
    "mse_scores.mean()"
   ]
  },
  {
   "cell_type": "code",
   "execution_count": 22,
   "metadata": {},
   "outputs": [],
   "source": [
    "# forecast_set = clf.predict(X_lately)\n",
    "# df['Forecast'] = np.nan\n",
    "forecast_set = clf.predict(X_lately)\n",
    "df['Forecast'] = np.nan\n"
   ]
  },
  {
   "cell_type": "code",
   "execution_count": 23,
   "metadata": {},
   "outputs": [],
   "source": [
    "last_date = df.iloc[-1].name\n",
    "last_unix = last_date.timestamp()\n",
    "one_day = 86400\n",
    "next_unix = last_unix + one_day\n"
   ]
  },
  {
   "cell_type": "code",
   "execution_count": 24,
   "metadata": {},
   "outputs": [],
   "source": [
    "for i in forecast_set:\n",
    "    next_date = datetime.datetime.fromtimestamp(next_unix)\n",
    "    next_unix += 86400\n",
    "    df.loc[next_date] = [np.nan for _ in range(len(df.columns)-1)]+[i]"
   ]
  },
  {
   "cell_type": "code",
   "execution_count": 46,
   "metadata": {},
   "outputs": [
    {
     "data": {
      "image/png": "[encoded data removed]",
      "text/plain": [
       "<Figure size 1440x360 with 1 Axes>"
      ]
     },
     "metadata": {},
     "output_type": "display_data"
    }
   ],
   "source": [
    "plt.figure(figsize=(20,5))\n",
    "df['Close'].plot()\n",
    "df['Forecast'].plot()\n",
    "plt.legend(loc=4)\n",
    "plt.xlabel('Date')\n",
    "plt.ylabel('Price')\n",
    "plt.show()"
   ]
  },
  {
   "cell_type": "code",
   "execution_count": 26,
   "metadata": {},
   "outputs": [
    {
     "data": {
      "text/plain": [
       "array([[-1.7557152 , -1.81529339, -1.73024344, -1.84864139],\n",
       "       [-1.79800803, -1.91197384, -1.74298275, -1.85076526],\n",
       "       [-1.77897575, -1.85732859, -1.59754421, -1.68091692],\n",
       "       [-1.62883671, -1.61142244, -1.60922154, -1.52274539],\n",
       "       [-1.39834029, -1.01137026, -1.53066297, -1.07264704],\n",
       "       [-1.22705484, -1.39494143, -1.30666585, -1.41659018],\n",
       "       [-1.41737257, -1.41595903, -1.30135785, -1.29663428],\n",
       "       [-1.37507974, -1.50002942, -1.27481788, -1.38899008],\n",
       "       [-1.52310464, -1.68813718, -1.53066297, -1.6968402 ],\n",
       "       [-1.77474748, -1.79112265, -1.61346819, -1.70108539],\n",
       "       [-1.75148566, -1.81634402, -1.60497489, -1.70320926],\n",
       "       [-1.71342237, -1.83631099, -1.60709758, -1.77539404],\n",
       "       [-1.7557152 , -1.43277285, -1.56888027, -1.32848085]])"
      ]
     },
     "execution_count": 26,
     "metadata": {},
     "output_type": "execute_result"
    }
   ],
   "source": [
    "X_lately"
   ]
  },
  {
   "cell_type": "code",
   "execution_count": 27,
   "metadata": {},
   "outputs": [
    {
     "data": {
      "text/plain": [
       "Date\n",
       "2018-08-21 05:30:00    512.450012\n",
       "2018-08-22 05:30:00    512.349976\n",
       "2018-08-23 05:30:00    520.349976\n",
       "2018-08-24 05:30:00    527.799988\n",
       "2018-08-25 05:30:00    549.000000\n",
       "2018-08-26 05:30:00    532.799988\n",
       "2018-08-27 05:30:00    538.450012\n",
       "2018-08-28 05:30:00    534.099976\n",
       "2018-08-29 05:30:00    519.599976\n",
       "2018-08-30 05:30:00    519.400024\n",
       "2018-08-31 05:30:00    519.299988\n",
       "2018-09-01 05:30:00    515.900024\n",
       "2018-09-02 05:30:00    536.950012\n",
       "Name: Forecast, dtype: float64"
      ]
     },
     "execution_count": 27,
     "metadata": {},
     "output_type": "execute_result"
    }
   ],
   "source": [
    "df['Forecast'][-13:]"
   ]
  },
  {
   "cell_type": "code",
   "execution_count": 28,
   "metadata": {},
   "outputs": [
    {
     "data": {
      "text/html": [
       "<div>\n",
       "<style scoped>\n",
       "    .dataframe tbody tr th:only-of-type {\n",
       "        vertical-align: middle;\n",
       "    }\n",
       "\n",
       "    .dataframe tbody tr th {\n",
       "        vertical-align: top;\n",
       "    }\n",
       "\n",
       "    .dataframe thead th {\n",
       "        text-align: right;\n",
       "    }\n",
       "</style>\n",
       "<table border=\"1\" class=\"dataframe\">\n",
       "  <thead>\n",
       "    <tr style=\"text-align: right;\">\n",
       "      <th></th>\n",
       "      <th>Open</th>\n",
       "      <th>High</th>\n",
       "      <th>Low</th>\n",
       "      <th>Close</th>\n",
       "      <th>label</th>\n",
       "      <th>Forecast</th>\n",
       "    </tr>\n",
       "    <tr>\n",
       "      <th>Date</th>\n",
       "      <th></th>\n",
       "      <th></th>\n",
       "      <th></th>\n",
       "      <th></th>\n",
       "      <th></th>\n",
       "      <th></th>\n",
       "    </tr>\n",
       "  </thead>\n",
       "  <tbody>\n",
       "    <tr>\n",
       "      <th>2018-08-20 00:00:00</th>\n",
       "      <td>518.0</td>\n",
       "      <td>541.200012</td>\n",
       "      <td>516.200012</td>\n",
       "      <td>536.950012</td>\n",
       "      <td>516.599976</td>\n",
       "      <td>NaN</td>\n",
       "    </tr>\n",
       "    <tr>\n",
       "      <th>2018-08-21 05:30:00</th>\n",
       "      <td>NaN</td>\n",
       "      <td>NaN</td>\n",
       "      <td>NaN</td>\n",
       "      <td>NaN</td>\n",
       "      <td>NaN</td>\n",
       "      <td>512.450012</td>\n",
       "    </tr>\n",
       "    <tr>\n",
       "      <th>2018-08-22 05:30:00</th>\n",
       "      <td>NaN</td>\n",
       "      <td>NaN</td>\n",
       "      <td>NaN</td>\n",
       "      <td>NaN</td>\n",
       "      <td>NaN</td>\n",
       "      <td>512.349976</td>\n",
       "    </tr>\n",
       "    <tr>\n",
       "      <th>2018-08-23 05:30:00</th>\n",
       "      <td>NaN</td>\n",
       "      <td>NaN</td>\n",
       "      <td>NaN</td>\n",
       "      <td>NaN</td>\n",
       "      <td>NaN</td>\n",
       "      <td>520.349976</td>\n",
       "    </tr>\n",
       "    <tr>\n",
       "      <th>2018-08-24 05:30:00</th>\n",
       "      <td>NaN</td>\n",
       "      <td>NaN</td>\n",
       "      <td>NaN</td>\n",
       "      <td>NaN</td>\n",
       "      <td>NaN</td>\n",
       "      <td>527.799988</td>\n",
       "    </tr>\n",
       "    <tr>\n",
       "      <th>2018-08-25 05:30:00</th>\n",
       "      <td>NaN</td>\n",
       "      <td>NaN</td>\n",
       "      <td>NaN</td>\n",
       "      <td>NaN</td>\n",
       "      <td>NaN</td>\n",
       "      <td>549.000000</td>\n",
       "    </tr>\n",
       "    <tr>\n",
       "      <th>2018-08-26 05:30:00</th>\n",
       "      <td>NaN</td>\n",
       "      <td>NaN</td>\n",
       "      <td>NaN</td>\n",
       "      <td>NaN</td>\n",
       "      <td>NaN</td>\n",
       "      <td>532.799988</td>\n",
       "    </tr>\n",
       "    <tr>\n",
       "      <th>2018-08-27 05:30:00</th>\n",
       "      <td>NaN</td>\n",
       "      <td>NaN</td>\n",
       "      <td>NaN</td>\n",
       "      <td>NaN</td>\n",
       "      <td>NaN</td>\n",
       "      <td>538.450012</td>\n",
       "    </tr>\n",
       "    <tr>\n",
       "      <th>2018-08-28 05:30:00</th>\n",
       "      <td>NaN</td>\n",
       "      <td>NaN</td>\n",
       "      <td>NaN</td>\n",
       "      <td>NaN</td>\n",
       "      <td>NaN</td>\n",
       "      <td>534.099976</td>\n",
       "    </tr>\n",
       "    <tr>\n",
       "      <th>2018-08-29 05:30:00</th>\n",
       "      <td>NaN</td>\n",
       "      <td>NaN</td>\n",
       "      <td>NaN</td>\n",
       "      <td>NaN</td>\n",
       "      <td>NaN</td>\n",
       "      <td>519.599976</td>\n",
       "    </tr>\n",
       "    <tr>\n",
       "      <th>2018-08-30 05:30:00</th>\n",
       "      <td>NaN</td>\n",
       "      <td>NaN</td>\n",
       "      <td>NaN</td>\n",
       "      <td>NaN</td>\n",
       "      <td>NaN</td>\n",
       "      <td>519.400024</td>\n",
       "    </tr>\n",
       "    <tr>\n",
       "      <th>2018-08-31 05:30:00</th>\n",
       "      <td>NaN</td>\n",
       "      <td>NaN</td>\n",
       "      <td>NaN</td>\n",
       "      <td>NaN</td>\n",
       "      <td>NaN</td>\n",
       "      <td>519.299988</td>\n",
       "    </tr>\n",
       "    <tr>\n",
       "      <th>2018-09-01 05:30:00</th>\n",
       "      <td>NaN</td>\n",
       "      <td>NaN</td>\n",
       "      <td>NaN</td>\n",
       "      <td>NaN</td>\n",
       "      <td>NaN</td>\n",
       "      <td>515.900024</td>\n",
       "    </tr>\n",
       "    <tr>\n",
       "      <th>2018-09-02 05:30:00</th>\n",
       "      <td>NaN</td>\n",
       "      <td>NaN</td>\n",
       "      <td>NaN</td>\n",
       "      <td>NaN</td>\n",
       "      <td>NaN</td>\n",
       "      <td>536.950012</td>\n",
       "    </tr>\n",
       "  </tbody>\n",
       "</table>\n",
       "</div>"
      ],
      "text/plain": [
       "                      Open        High         Low       Close       label  \\\n",
       "Date                                                                         \n",
       "2018-08-20 00:00:00  518.0  541.200012  516.200012  536.950012  516.599976   \n",
       "2018-08-21 05:30:00    NaN         NaN         NaN         NaN         NaN   \n",
       "2018-08-22 05:30:00    NaN         NaN         NaN         NaN         NaN   \n",
       "2018-08-23 05:30:00    NaN         NaN         NaN         NaN         NaN   \n",
       "2018-08-24 05:30:00    NaN         NaN         NaN         NaN         NaN   \n",
       "2018-08-25 05:30:00    NaN         NaN         NaN         NaN         NaN   \n",
       "2018-08-26 05:30:00    NaN         NaN         NaN         NaN         NaN   \n",
       "2018-08-27 05:30:00    NaN         NaN         NaN         NaN         NaN   \n",
       "2018-08-28 05:30:00    NaN         NaN         NaN         NaN         NaN   \n",
       "2018-08-29 05:30:00    NaN         NaN         NaN         NaN         NaN   \n",
       "2018-08-30 05:30:00    NaN         NaN         NaN         NaN         NaN   \n",
       "2018-08-31 05:30:00    NaN         NaN         NaN         NaN         NaN   \n",
       "2018-09-01 05:30:00    NaN         NaN         NaN         NaN         NaN   \n",
       "2018-09-02 05:30:00    NaN         NaN         NaN         NaN         NaN   \n",
       "\n",
       "                       Forecast  \n",
       "Date                             \n",
       "2018-08-20 00:00:00         NaN  \n",
       "2018-08-21 05:30:00  512.450012  \n",
       "2018-08-22 05:30:00  512.349976  \n",
       "2018-08-23 05:30:00  520.349976  \n",
       "2018-08-24 05:30:00  527.799988  \n",
       "2018-08-25 05:30:00  549.000000  \n",
       "2018-08-26 05:30:00  532.799988  \n",
       "2018-08-27 05:30:00  538.450012  \n",
       "2018-08-28 05:30:00  534.099976  \n",
       "2018-08-29 05:30:00  519.599976  \n",
       "2018-08-30 05:30:00  519.400024  \n",
       "2018-08-31 05:30:00  519.299988  \n",
       "2018-09-01 05:30:00  515.900024  \n",
       "2018-09-02 05:30:00  536.950012  "
      ]
     },
     "execution_count": 28,
     "metadata": {},
     "output_type": "execute_result"
    }
   ],
   "source": [
    "df.tail(14)"
   ]
  },
  {
   "cell_type": "code",
   "execution_count": 29,
   "metadata": {},
   "outputs": [
    {
     "data": {
      "text/plain": [
       "LinearRegression(copy_X=True, fit_intercept=True, n_jobs=-1, normalize=False)"
      ]
     },
     "execution_count": 29,
     "metadata": {},
     "output_type": "execute_result"
    }
   ],
   "source": [
    "clf"
   ]
  },
  {
   "cell_type": "code",
   "execution_count": 30,
   "metadata": {},
   "outputs": [
    {
     "data": {
      "text/plain": [
       "1.0"
      ]
     },
     "execution_count": 30,
     "metadata": {},
     "output_type": "execute_result"
    }
   ],
   "source": [
    "clf.score(X_test,y_test)"
   ]
  },
  {
   "cell_type": "code",
   "execution_count": 31,
   "metadata": {},
   "outputs": [],
   "source": [
    "from sklearn.metrics import mean_squared_error"
   ]
  },
  {
   "cell_type": "code",
   "execution_count": 32,
   "metadata": {},
   "outputs": [],
   "source": [
    "prds = clf.predict(X_test)\n"
   ]
  },
  {
   "cell_type": "code",
   "execution_count": 33,
   "metadata": {},
   "outputs": [
    {
     "data": {
      "text/plain": [
       "0.0"
      ]
     },
     "execution_count": 33,
     "metadata": {},
     "output_type": "execute_result"
    }
   ],
   "source": [
    "loss = mean_squared_error(y_test,prds)\n",
    "loss"
   ]
  },
  {
   "cell_type": "code",
   "execution_count": 34,
   "metadata": {},
   "outputs": [],
   "source": [
    "import math"
   ]
  },
  {
   "cell_type": "code",
   "execution_count": 35,
   "metadata": {},
   "outputs": [
    {
     "data": {
      "text/plain": [
       "0.0"
      ]
     },
     "execution_count": 35,
     "metadata": {},
     "output_type": "execute_result"
    }
   ],
   "source": [
    "rmse = math.sqrt(loss)\n",
    "rmse"
   ]
  },
  {
   "cell_type": "code",
   "execution_count": 36,
   "metadata": {},
   "outputs": [],
   "source": [
    "import seaborn as sns"
   ]
  },
  {
   "cell_type": "code",
   "execution_count": 43,
   "metadata": {},
   "outputs": [
    {
     "data": {
      "image/png": "[encoded data removed]",
      "text/plain": [
       "<Figure size 1440x360 with 1 Axes>"
      ]
     },
     "metadata": {},
     "output_type": "display_data"
    }
   ],
   "source": [
    "plt.figure(figsize=(20,5))\n",
    "# plt.plot(df['Close'].index,df['Close'].values)\n",
    "df['High'].plot()\n",
    "plt.legend()\n",
    "plt.show()"
   ]
  },
  {
   "cell_type": "code",
   "execution_count": 44,
   "metadata": {
    "scrolled": true
   },
   "outputs": [
    {
     "data": {
      "image/png": "[encoded data removed]",
      "text/plain": [
       "<Figure size 1440x360 with 1 Axes>"
      ]
     },
     "metadata": {},
     "output_type": "display_data"
    }
   ],
   "source": [
    "plt.figure(figsize=(20,5))\n",
    "plt.plot(df['Close'].index,df['Close'].values)\n",
    "plt.show()"
   ]
  },
  {
   "cell_type": "code",
   "execution_count": 38,
   "metadata": {},
   "outputs": [
    {
     "data": {
      "image/png": "[encoded data removed]",
      "text/plain": [
       "<Figure size 720x720 with 2 Axes>"
      ]
     },
     "metadata": {},
     "output_type": "display_data"
    }
   ],
   "source": [
    "corrmat = df.corr()\n",
    "f, ax = plt.subplots(figsize=(10, 10))\n",
    "sns.heatmap(corrmat, vmax=.8, annot=True);\n"
   ]
  },
  {
   "cell_type": "code",
   "execution_count": 39,
   "metadata": {},
   "outputs": [
    {
     "data": {
      "image/png": "[encoded data removed]",
      "text/plain": [
       "<Figure size 720x720 with 2 Axes>"
      ]
     },
     "metadata": {},
     "output_type": "display_data"
    }
   ],
   "source": [
    "corrmat = df.corr()\n",
    "top_corr_features = corrmat.index[abs(corrmat[\"Close\"])>0.75]\n",
    "plt.figure(figsize=(10,10))\n",
    "g = sns.heatmap(df[top_corr_features].corr(),annot=True,cmap=\"RdYlGn\")"
   ]
  },
  {
   "cell_type": "code",
   "execution_count": 40,
   "metadata": {},
   "outputs": [
    {
     "data": {
      "text/plain": [
       "6"
      ]
     },
     "execution_count": 40,
     "metadata": {},
     "output_type": "execute_result"
    }
   ],
   "source": [
    "df.isnull().any().sum()"
   ]
  },
  {
   "cell_type": "code",
   "execution_count": 41,
   "metadata": {},
   "outputs": [
    {
     "name": "stdout",
     "output_type": "stream",
     "text": [
      "Close       1.000000\n",
      "High        0.989067\n",
      "Low         0.980341\n",
      "Open        0.966751\n",
      "label       0.707645\n",
      "Forecast         NaN\n",
      "Name: Close, dtype: float64\n"
     ]
    }
   ],
   "source": [
    "corr = df.corr()\n",
    "corr.sort_values(['Close'], ascending = False, inplace = True)\n",
    "print(corr.Close)\n"
   ]
  },
  {
   "cell_type": "code",
   "execution_count": null,
   "metadata": {},
   "outputs": [],
   "source": []
  }
 ],
 "metadata": {
  "kernelspec": {
   "display_name": "Python 3",
   "language": "python",
   "name": "python3"
  },
  "language_info": {
   "codemirror_mode": {
    "name": "ipython",
    "version": 3
   },
   "file_extension": ".py",
   "mimetype": "text/x-python",
   "name": "python",
   "nbconvert_exporter": "python",
   "pygments_lexer": "ipython3",
   "version": "3.6.4"
  }
 },
 "nbformat": 4,
 "nbformat_minor": 2
}
