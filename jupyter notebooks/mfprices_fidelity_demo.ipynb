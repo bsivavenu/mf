{
 "cells": [
  {
   "cell_type": "code",
   "execution_count": 17,
   "metadata": {},
   "outputs": [],
   "source": [
    "import pandas as pd"
   ]
  },
  {
   "cell_type": "code",
   "execution_count": 18,
   "metadata": {},
   "outputs": [
    {
     "data": {
      "text/html": [
       "<div>\n",
       "<style scoped>\n",
       "    .dataframe tbody tr th:only-of-type {\n",
       "        vertical-align: middle;\n",
       "    }\n",
       "\n",
       "    .dataframe tbody tr th {\n",
       "        vertical-align: top;\n",
       "    }\n",
       "\n",
       "    .dataframe thead th {\n",
       "        text-align: right;\n",
       "    }\n",
       "</style>\n",
       "<table border=\"1\" class=\"dataframe\">\n",
       "  <thead>\n",
       "    <tr style=\"text-align: right;\">\n",
       "      <th></th>\n",
       "      <th>Scheme Code</th>\n",
       "      <th>Scheme Name</th>\n",
       "      <th>Net Asset Value</th>\n",
       "      <th>Repurchase Price</th>\n",
       "      <th>Sale Price</th>\n",
       "      <th>Date</th>\n",
       "    </tr>\n",
       "  </thead>\n",
       "  <tbody>\n",
       "    <tr>\n",
       "      <th>0</th>\n",
       "      <td>Open Ended Schemes ( Income )</td>\n",
       "      <td>NaN</td>\n",
       "      <td>NaN</td>\n",
       "      <td>NaN</td>\n",
       "      <td>NaN</td>\n",
       "      <td>NaN</td>\n",
       "    </tr>\n",
       "    <tr>\n",
       "      <th>1</th>\n",
       "      <td>Fidelity Mutual Fund</td>\n",
       "      <td>NaN</td>\n",
       "      <td>NaN</td>\n",
       "      <td>NaN</td>\n",
       "      <td>NaN</td>\n",
       "      <td>NaN</td>\n",
       "    </tr>\n",
       "    <tr>\n",
       "      <th>2</th>\n",
       "      <td>104220</td>\n",
       "      <td>Fidelity Flexi Bond Fund - Institutional Plan ...</td>\n",
       "      <td>10.0</td>\n",
       "      <td>10.0</td>\n",
       "      <td>10.0</td>\n",
       "      <td>01-Jan-2010</td>\n",
       "    </tr>\n",
       "    <tr>\n",
       "      <th>3</th>\n",
       "      <td>104220</td>\n",
       "      <td>Fidelity Flexi Bond Fund - Institutional Plan ...</td>\n",
       "      <td>10.0</td>\n",
       "      <td>10.0</td>\n",
       "      <td>10.0</td>\n",
       "      <td>04-Jan-2010</td>\n",
       "    </tr>\n",
       "    <tr>\n",
       "      <th>4</th>\n",
       "      <td>104220</td>\n",
       "      <td>Fidelity Flexi Bond Fund - Institutional Plan ...</td>\n",
       "      <td>10.0</td>\n",
       "      <td>10.0</td>\n",
       "      <td>10.0</td>\n",
       "      <td>05-Jan-2010</td>\n",
       "    </tr>\n",
       "  </tbody>\n",
       "</table>\n",
       "</div>"
      ],
      "text/plain": [
       "                     Scheme Code  \\\n",
       "0  Open Ended Schemes ( Income )   \n",
       "1           Fidelity Mutual Fund   \n",
       "2                         104220   \n",
       "3                         104220   \n",
       "4                         104220   \n",
       "\n",
       "                                         Scheme Name  Net Asset Value  \\\n",
       "0                                                NaN              NaN   \n",
       "1                                                NaN              NaN   \n",
       "2  Fidelity Flexi Bond Fund - Institutional Plan ...             10.0   \n",
       "3  Fidelity Flexi Bond Fund - Institutional Plan ...             10.0   \n",
       "4  Fidelity Flexi Bond Fund - Institutional Plan ...             10.0   \n",
       "\n",
       "   Repurchase Price  Sale Price         Date  \n",
       "0               NaN         NaN          NaN  \n",
       "1               NaN         NaN          NaN  \n",
       "2              10.0        10.0  01-Jan-2010  \n",
       "3              10.0        10.0  04-Jan-2010  \n",
       "4              10.0        10.0  05-Jan-2010  "
      ]
     },
     "execution_count": 18,
     "metadata": {},
     "output_type": "execute_result"
    }
   ],
   "source": [
    "data = pd.read_csv('fidelity.txt',delimiter=';')\n",
    "data.head()"
   ]
  },
  {
   "cell_type": "code",
   "execution_count": 19,
   "metadata": {},
   "outputs": [],
   "source": [
    "data.dropna(inplace=True)"
   ]
  },
  {
   "cell_type": "code",
   "execution_count": 20,
   "metadata": {},
   "outputs": [
    {
     "data": {
      "text/html": [
       "<div>\n",
       "<style scoped>\n",
       "    .dataframe tbody tr th:only-of-type {\n",
       "        vertical-align: middle;\n",
       "    }\n",
       "\n",
       "    .dataframe tbody tr th {\n",
       "        vertical-align: top;\n",
       "    }\n",
       "\n",
       "    .dataframe thead th {\n",
       "        text-align: right;\n",
       "    }\n",
       "</style>\n",
       "<table border=\"1\" class=\"dataframe\">\n",
       "  <thead>\n",
       "    <tr style=\"text-align: right;\">\n",
       "      <th></th>\n",
       "      <th>Scheme Code</th>\n",
       "      <th>Scheme Name</th>\n",
       "      <th>Net Asset Value</th>\n",
       "      <th>Repurchase Price</th>\n",
       "      <th>Sale Price</th>\n",
       "      <th>Date</th>\n",
       "    </tr>\n",
       "  </thead>\n",
       "  <tbody>\n",
       "    <tr>\n",
       "      <th>40083</th>\n",
       "      <td>112350</td>\n",
       "      <td>Fidelity Global Real Assets Fund-Growth Option</td>\n",
       "      <td>14.889</td>\n",
       "      <td>14.740</td>\n",
       "      <td>14.889</td>\n",
       "      <td>16-Nov-2012</td>\n",
       "    </tr>\n",
       "    <tr>\n",
       "      <th>40084</th>\n",
       "      <td>112350</td>\n",
       "      <td>Fidelity Global Real Assets Fund-Growth Option</td>\n",
       "      <td>15.136</td>\n",
       "      <td>14.985</td>\n",
       "      <td>15.136</td>\n",
       "      <td>19-Nov-2012</td>\n",
       "    </tr>\n",
       "    <tr>\n",
       "      <th>40085</th>\n",
       "      <td>112350</td>\n",
       "      <td>Fidelity Global Real Assets Fund-Growth Option</td>\n",
       "      <td>15.138</td>\n",
       "      <td>14.987</td>\n",
       "      <td>15.138</td>\n",
       "      <td>20-Nov-2012</td>\n",
       "    </tr>\n",
       "    <tr>\n",
       "      <th>40086</th>\n",
       "      <td>112350</td>\n",
       "      <td>Fidelity Global Real Assets Fund-Growth Option</td>\n",
       "      <td>15.156</td>\n",
       "      <td>15.004</td>\n",
       "      <td>15.156</td>\n",
       "      <td>21-Nov-2012</td>\n",
       "    </tr>\n",
       "    <tr>\n",
       "      <th>40087</th>\n",
       "      <td>112350</td>\n",
       "      <td>Fidelity Global Real Assets Fund-Growth Option</td>\n",
       "      <td>15.263</td>\n",
       "      <td>15.110</td>\n",
       "      <td>15.263</td>\n",
       "      <td>22-Nov-2012</td>\n",
       "    </tr>\n",
       "  </tbody>\n",
       "</table>\n",
       "</div>"
      ],
      "text/plain": [
       "      Scheme Code                                     Scheme Name  \\\n",
       "40083      112350  Fidelity Global Real Assets Fund-Growth Option   \n",
       "40084      112350  Fidelity Global Real Assets Fund-Growth Option   \n",
       "40085      112350  Fidelity Global Real Assets Fund-Growth Option   \n",
       "40086      112350  Fidelity Global Real Assets Fund-Growth Option   \n",
       "40087      112350  Fidelity Global Real Assets Fund-Growth Option   \n",
       "\n",
       "       Net Asset Value  Repurchase Price  Sale Price         Date  \n",
       "40083           14.889            14.740      14.889  16-Nov-2012  \n",
       "40084           15.136            14.985      15.136  19-Nov-2012  \n",
       "40085           15.138            14.987      15.138  20-Nov-2012  \n",
       "40086           15.156            15.004      15.156  21-Nov-2012  \n",
       "40087           15.263            15.110      15.263  22-Nov-2012  "
      ]
     },
     "execution_count": 20,
     "metadata": {},
     "output_type": "execute_result"
    }
   ],
   "source": [
    "data.tail()"
   ]
  },
  {
   "cell_type": "code",
   "execution_count": 21,
   "metadata": {},
   "outputs": [
    {
     "data": {
      "text/plain": [
       "Index(['Scheme Code', 'Scheme Name', 'Net Asset Value', 'Repurchase Price',\n",
       "       'Sale Price', 'Date'],\n",
       "      dtype='object')"
      ]
     },
     "execution_count": 21,
     "metadata": {},
     "output_type": "execute_result"
    }
   ],
   "source": [
    "data.columns"
   ]
  },
  {
   "cell_type": "code",
   "execution_count": 22,
   "metadata": {},
   "outputs": [
    {
     "data": {
      "text/html": [
       "<div>\n",
       "<style scoped>\n",
       "    .dataframe tbody tr th:only-of-type {\n",
       "        vertical-align: middle;\n",
       "    }\n",
       "\n",
       "    .dataframe tbody tr th {\n",
       "        vertical-align: top;\n",
       "    }\n",
       "\n",
       "    .dataframe thead th {\n",
       "        text-align: right;\n",
       "    }\n",
       "</style>\n",
       "<table border=\"1\" class=\"dataframe\">\n",
       "  <thead>\n",
       "    <tr style=\"text-align: right;\">\n",
       "      <th></th>\n",
       "      <th>Scheme Name</th>\n",
       "      <th>Net Asset Value</th>\n",
       "      <th>Repurchase Price</th>\n",
       "      <th>Sale Price</th>\n",
       "      <th>Date</th>\n",
       "    </tr>\n",
       "  </thead>\n",
       "  <tbody>\n",
       "    <tr>\n",
       "      <th>40083</th>\n",
       "      <td>Fidelity Global Real Assets Fund-Growth Option</td>\n",
       "      <td>14.889</td>\n",
       "      <td>14.740</td>\n",
       "      <td>14.889</td>\n",
       "      <td>16-Nov-2012</td>\n",
       "    </tr>\n",
       "    <tr>\n",
       "      <th>40084</th>\n",
       "      <td>Fidelity Global Real Assets Fund-Growth Option</td>\n",
       "      <td>15.136</td>\n",
       "      <td>14.985</td>\n",
       "      <td>15.136</td>\n",
       "      <td>19-Nov-2012</td>\n",
       "    </tr>\n",
       "    <tr>\n",
       "      <th>40085</th>\n",
       "      <td>Fidelity Global Real Assets Fund-Growth Option</td>\n",
       "      <td>15.138</td>\n",
       "      <td>14.987</td>\n",
       "      <td>15.138</td>\n",
       "      <td>20-Nov-2012</td>\n",
       "    </tr>\n",
       "    <tr>\n",
       "      <th>40086</th>\n",
       "      <td>Fidelity Global Real Assets Fund-Growth Option</td>\n",
       "      <td>15.156</td>\n",
       "      <td>15.004</td>\n",
       "      <td>15.156</td>\n",
       "      <td>21-Nov-2012</td>\n",
       "    </tr>\n",
       "    <tr>\n",
       "      <th>40087</th>\n",
       "      <td>Fidelity Global Real Assets Fund-Growth Option</td>\n",
       "      <td>15.263</td>\n",
       "      <td>15.110</td>\n",
       "      <td>15.263</td>\n",
       "      <td>22-Nov-2012</td>\n",
       "    </tr>\n",
       "  </tbody>\n",
       "</table>\n",
       "</div>"
      ],
      "text/plain": [
       "                                          Scheme Name  Net Asset Value  \\\n",
       "40083  Fidelity Global Real Assets Fund-Growth Option           14.889   \n",
       "40084  Fidelity Global Real Assets Fund-Growth Option           15.136   \n",
       "40085  Fidelity Global Real Assets Fund-Growth Option           15.138   \n",
       "40086  Fidelity Global Real Assets Fund-Growth Option           15.156   \n",
       "40087  Fidelity Global Real Assets Fund-Growth Option           15.263   \n",
       "\n",
       "       Repurchase Price  Sale Price         Date  \n",
       "40083            14.740      14.889  16-Nov-2012  \n",
       "40084            14.985      15.136  19-Nov-2012  \n",
       "40085            14.987      15.138  20-Nov-2012  \n",
       "40086            15.004      15.156  21-Nov-2012  \n",
       "40087            15.110      15.263  22-Nov-2012  "
      ]
     },
     "execution_count": 22,
     "metadata": {},
     "output_type": "execute_result"
    }
   ],
   "source": [
    "data = data[['Scheme Name','Net Asset Value','Repurchase Price','Sale Price','Date']]\n",
    "data.tail()"
   ]
  },
  {
   "cell_type": "code",
   "execution_count": 23,
   "metadata": {},
   "outputs": [],
   "source": [
    "# data.set_index(['Date'],inplace=True)\n",
    "# data.head()"
   ]
  },
  {
   "cell_type": "code",
   "execution_count": 24,
   "metadata": {},
   "outputs": [],
   "source": [
    "import matplotlib.pyplot as plt\n",
    "%matplotlib inline"
   ]
  },
  {
   "cell_type": "code",
   "execution_count": 25,
   "metadata": {},
   "outputs": [
    {
     "data": {
      "image/png": "[encoded data removed]",
      "text/plain": [
       "<Figure size 1440x360 with 1 Axes>"
      ]
     },
     "metadata": {},
     "output_type": "display_data"
    }
   ],
   "source": [
    "plt.figure(figsize=(20,5))\n",
    "data['Net Asset Value'].plot()\n",
    "plt.show()"
   ]
  },
  {
   "cell_type": "code",
   "execution_count": 26,
   "metadata": {},
   "outputs": [],
   "source": [
    "import seaborn as sns"
   ]
  },
  {
   "cell_type": "code",
   "execution_count": null,
   "metadata": {},
   "outputs": [],
   "source": [
    "plt.figure(figsize=(20,5))\n",
    "sns.pointplot(data['Date'].index,data['Net Asset Value'])\n",
    "plt.xticks(rotation=90)\n",
    "plt.legend()\n",
    "plt.show()"
   ]
  },
  {
   "cell_type": "code",
   "execution_count": null,
   "metadata": {},
   "outputs": [],
   "source": []
  }
 ],
 "metadata": {
  "kernelspec": {
   "display_name": "Python 3",
   "language": "python",
   "name": "python3"
  },
  "language_info": {
   "codemirror_mode": {
    "name": "ipython",
    "version": 3
   },
   "file_extension": ".py",
   "mimetype": "text/x-python",
   "name": "python",
   "nbconvert_exporter": "python",
   "pygments_lexer": "ipython3",
   "version": "3.6.4"
  }
 },
 "nbformat": 4,
 "nbformat_minor": 2
}
